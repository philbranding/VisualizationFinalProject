{
 "cells": [
  {
   "cell_type": "markdown",
   "metadata": {},
   "source": [
    "# Stellenmarkt Karte für Developers"
   ]
  },
  {
   "cell_type": "markdown",
   "metadata": {},
   "source": [
    "Für unser Projekt werden wir versuchen, mithilfe der github jobs API (https://jobs.github.com/api ) eine Stellenmarktkarte für unsere Datensätze zu erstellen.\n",
    "\n",
    "Ziel ist es, die Erkundung des Arbeitsmarktes auf einer interaktiven Karte zu erleichtern. Auf diese Weise erhalten Sie einen Überblick über die verschiedenen Faktoren, die berücksichtigt werden müssen. Faktoren wie Nachfrage, Bevölkerung und Reisestrecke sind einige der anderen Daten, die wir ebenfalls darstellen möchten."
   ]
  },
  {
   "cell_type": "markdown",
   "metadata": {},
   "source": [
    "#### Coding Goals:"
   ]
  },
  {
   "cell_type": "markdown",
   "metadata": {},
   "source": [
    "- Creating a Map in Jupyter using a specific Framework\n",
    "- Requesting Data set from API(https://jobs.github.com/api ) in JSON format\n",
    "- (Save DataSet in a JSON file)\n",
    "- To import data using JSON into a Jupyter\n",
    "- Representing the Data the MAP\n",
    "- Creating different iterations of the DATA on the MAP\n"
   ]
  },
  {
   "cell_type": "markdown",
   "metadata": {},
   "source": [
    "# Creating a Map "
   ]
  },
  {
   "cell_type": "code",
   "execution_count": null,
   "metadata": {},
   "outputs": [],
   "source": []
  }
 ],
 "metadata": {
  "kernelspec": {
   "display_name": "Python 3",
   "language": "python",
   "name": "python3"
  },
  "language_info": {
   "codemirror_mode": {
    "name": "ipython",
    "version": 3
   },
   "file_extension": ".py",
   "mimetype": "text/x-python",
   "name": "python",
   "nbconvert_exporter": "python",
   "pygments_lexer": "ipython3",
   "version": "3.7.4"
  }
 },
 "nbformat": 4,
 "nbformat_minor": 2
}
